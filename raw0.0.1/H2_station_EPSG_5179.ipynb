{
 "cells": [
  {
   "cell_type": "code",
   "execution_count": 1,
   "metadata": {
    "colab": {
     "base_uri": "https://localhost:8080/"
    },
    "id": "6YMrY9AyHStz",
    "outputId": "681a10a2-b7b8-471b-d805-98853da69270"
   },
   "outputs": [
    {
     "name": "stdout",
     "output_type": "stream",
     "text": [
      "Requirement already satisfied: PyMySQL in c:\\users\\admin\\anaconda3\\lib\\site-packages (1.0.2)\n",
      "Note: you may need to restart the kernel to use updated packages.\n"
     ]
    }
   ],
   "source": [
    "pip install PyMySQL"
   ]
  },
  {
   "cell_type": "code",
   "execution_count": 2,
   "metadata": {
    "id": "jJWELpdTJYwS"
   },
   "outputs": [],
   "source": [
    "import pymysql.cursors"
   ]
  },
  {
   "cell_type": "code",
   "execution_count": 3,
   "metadata": {
    "id": "ZikFuEEjJaXt"
   },
   "outputs": [],
   "source": [
    "import pandas as pd"
   ]
  },
  {
   "cell_type": "code",
   "execution_count": 4,
   "metadata": {
    "colab": {
     "base_uri": "https://localhost:8080/"
    },
    "id": "NRjbwS9aJby9",
    "outputId": "86f80b1f-fe43-4208-c525-3177a2d60375"
   },
   "outputs": [
    {
     "name": "stdout",
     "output_type": "stream",
     "text": [
      "       행정 구역         업소명                           소재지           관리구분  \\\n",
      "0     서울 강남구     강남복지충전소         서울 강남구 자곡동 373-1 (1층)          자동차충전   \n",
      "1     서울 강남구     (주)진양가스              서울 강남구 도곡동 552-4          자동차충전   \n",
      "2     서울 강남구   대치에너지주식회사              서울 강남구 대치동 27-15          자동차충전   \n",
      "3     서울 강남구    남서울가스(주)               서울 강남구 대치동 21-1  용기+자동차+13kg용기   \n",
      "4     서울 강남구    (주)수서에너지            서울 강남구 자곡동 204-1.3          자동차충전   \n",
      "...      ...         ...                           ...            ...   \n",
      "2036  제주 제주시  (주)천마와산충전소           제주 제주시 조천읍 와산리 1286   용기+탱크+13kg용기   \n",
      "2037  제주 제주시  정우오라엘피지충전소        제주 제주시 오라2동 1552-1외1필지          자동차충전   \n",
      "2038  제주 제주시   굿모닝엘피지충전소              제주 제주시 용담2동 1543          자동차충전   \n",
      "2039  제주 제주시    제주오케이충전소   제주 제주시 이호2동 1580,1581,1582           자동차충전   \n",
      "2040  제주 제주시    (주)진성에너지          제주 제주시 조천읍 와흘리 770번지   용기+탱크+13kg용기   \n",
      "\n",
      "                             입력주소       X        Y  CLSS  \n",
      "0           서울 강남구 자곡동 373-1 (1층)  965118  1941979   정좌표  \n",
      "1                서울 강남구 도곡동 552-4  958954  1943573   정좌표  \n",
      "2                서울 강남구 대치동 27-15  962707  1944536   정좌표  \n",
      "3                 서울 강남구 대치동 21-1  962482  1944366   정좌표  \n",
      "4              서울 강남구 자곡동 204-1.3  965804  1942510  인근좌표  \n",
      "...                           ...     ...      ...   ...  \n",
      "2036          제주 제주시 조천읍 와산리 1286  923644  1498053   정좌표  \n",
      "2037       제주 제주시 오라2동 1552-1외1필지  908530  1499406   정좌표  \n",
      "2038             제주 제주시 용담2동 1543  907043  1501864   정좌표  \n",
      "2039  제주 제주시 이호2동 1580,1581,1582   903134  1500843   정좌표  \n",
      "2040         제주 제주시 조천읍 와흘리 770번지  920397  1498895   정좌표  \n",
      "\n",
      "[2041 rows x 8 columns]\n"
     ]
    }
   ],
   "source": [
    "conn = pymysql.connect(host='15.164.148.106', user='pj', \n",
    "                       password='1234', db='testbook', charset='utf8',\n",
    "                       autocommit=True, cursorclass=pymysql.cursors.DictCursor)\n",
    "try:\n",
    "\n",
    "   with conn.cursor() as curs:\n",
    "      # sql = \"select * from 화재;\"\n",
    "      sql = \"SELECT * FROM testbook.전국LPG충전소_위경도;\"\n",
    "      curs.execute(sql)\n",
    "      rs = curs.fetchall()\n",
    "\n",
    "      # DB에서 받아온 값을 DataFrame에 넣음\n",
    "\n",
    "      df = pd.DataFrame(rs)\n",
    "      print(df)\n",
    "    \n",
    "    #df.to_csv('query.csv')\n",
    "\n",
    "finally:\n",
    "\n",
    "   conn.close()               #day20,6.15 자료"
   ]
  },
  {
   "cell_type": "code",
   "execution_count": 5,
   "metadata": {
    "colab": {
     "base_uri": "https://localhost:8080/",
     "height": 416
    },
    "id": "3vu2lfo-Jfyv",
    "outputId": "edc1823c-05e4-41ff-aeab-265958b1f115"
   },
   "outputs": [
    {
     "data": {
      "text/html": [
       "<div>\n",
       "<style scoped>\n",
       "    .dataframe tbody tr th:only-of-type {\n",
       "        vertical-align: middle;\n",
       "    }\n",
       "\n",
       "    .dataframe tbody tr th {\n",
       "        vertical-align: top;\n",
       "    }\n",
       "\n",
       "    .dataframe thead th {\n",
       "        text-align: right;\n",
       "    }\n",
       "</style>\n",
       "<table border=\"1\" class=\"dataframe\">\n",
       "  <thead>\n",
       "    <tr style=\"text-align: right;\">\n",
       "      <th></th>\n",
       "      <th>행정 구역</th>\n",
       "      <th>업소명</th>\n",
       "      <th>소재지</th>\n",
       "      <th>관리구분</th>\n",
       "      <th>입력주소</th>\n",
       "      <th>X</th>\n",
       "      <th>Y</th>\n",
       "      <th>CLSS</th>\n",
       "    </tr>\n",
       "  </thead>\n",
       "  <tbody>\n",
       "    <tr>\n",
       "      <th>0</th>\n",
       "      <td>서울 강남구</td>\n",
       "      <td>강남복지충전소</td>\n",
       "      <td>서울 강남구 자곡동 373-1 (1층)</td>\n",
       "      <td>자동차충전</td>\n",
       "      <td>서울 강남구 자곡동 373-1 (1층)</td>\n",
       "      <td>965118</td>\n",
       "      <td>1941979</td>\n",
       "      <td>정좌표</td>\n",
       "    </tr>\n",
       "    <tr>\n",
       "      <th>1</th>\n",
       "      <td>서울 강남구</td>\n",
       "      <td>(주)진양가스</td>\n",
       "      <td>서울 강남구 도곡동 552-4</td>\n",
       "      <td>자동차충전</td>\n",
       "      <td>서울 강남구 도곡동 552-4</td>\n",
       "      <td>958954</td>\n",
       "      <td>1943573</td>\n",
       "      <td>정좌표</td>\n",
       "    </tr>\n",
       "    <tr>\n",
       "      <th>2</th>\n",
       "      <td>서울 강남구</td>\n",
       "      <td>대치에너지주식회사</td>\n",
       "      <td>서울 강남구 대치동 27-15</td>\n",
       "      <td>자동차충전</td>\n",
       "      <td>서울 강남구 대치동 27-15</td>\n",
       "      <td>962707</td>\n",
       "      <td>1944536</td>\n",
       "      <td>정좌표</td>\n",
       "    </tr>\n",
       "    <tr>\n",
       "      <th>3</th>\n",
       "      <td>서울 강남구</td>\n",
       "      <td>남서울가스(주)</td>\n",
       "      <td>서울 강남구 대치동 21-1</td>\n",
       "      <td>용기+자동차+13kg용기</td>\n",
       "      <td>서울 강남구 대치동 21-1</td>\n",
       "      <td>962482</td>\n",
       "      <td>1944366</td>\n",
       "      <td>정좌표</td>\n",
       "    </tr>\n",
       "    <tr>\n",
       "      <th>4</th>\n",
       "      <td>서울 강남구</td>\n",
       "      <td>(주)수서에너지</td>\n",
       "      <td>서울 강남구 자곡동 204-1.3</td>\n",
       "      <td>자동차충전</td>\n",
       "      <td>서울 강남구 자곡동 204-1.3</td>\n",
       "      <td>965804</td>\n",
       "      <td>1942510</td>\n",
       "      <td>인근좌표</td>\n",
       "    </tr>\n",
       "    <tr>\n",
       "      <th>...</th>\n",
       "      <td>...</td>\n",
       "      <td>...</td>\n",
       "      <td>...</td>\n",
       "      <td>...</td>\n",
       "      <td>...</td>\n",
       "      <td>...</td>\n",
       "      <td>...</td>\n",
       "      <td>...</td>\n",
       "    </tr>\n",
       "    <tr>\n",
       "      <th>2036</th>\n",
       "      <td>제주 제주시</td>\n",
       "      <td>(주)천마와산충전소</td>\n",
       "      <td>제주 제주시 조천읍 와산리 1286</td>\n",
       "      <td>용기+탱크+13kg용기</td>\n",
       "      <td>제주 제주시 조천읍 와산리 1286</td>\n",
       "      <td>923644</td>\n",
       "      <td>1498053</td>\n",
       "      <td>정좌표</td>\n",
       "    </tr>\n",
       "    <tr>\n",
       "      <th>2037</th>\n",
       "      <td>제주 제주시</td>\n",
       "      <td>정우오라엘피지충전소</td>\n",
       "      <td>제주 제주시 오라2동 1552-1외1필지</td>\n",
       "      <td>자동차충전</td>\n",
       "      <td>제주 제주시 오라2동 1552-1외1필지</td>\n",
       "      <td>908530</td>\n",
       "      <td>1499406</td>\n",
       "      <td>정좌표</td>\n",
       "    </tr>\n",
       "    <tr>\n",
       "      <th>2038</th>\n",
       "      <td>제주 제주시</td>\n",
       "      <td>굿모닝엘피지충전소</td>\n",
       "      <td>제주 제주시 용담2동 1543</td>\n",
       "      <td>자동차충전</td>\n",
       "      <td>제주 제주시 용담2동 1543</td>\n",
       "      <td>907043</td>\n",
       "      <td>1501864</td>\n",
       "      <td>정좌표</td>\n",
       "    </tr>\n",
       "    <tr>\n",
       "      <th>2039</th>\n",
       "      <td>제주 제주시</td>\n",
       "      <td>제주오케이충전소</td>\n",
       "      <td>제주 제주시 이호2동 1580,1581,1582</td>\n",
       "      <td>자동차충전</td>\n",
       "      <td>제주 제주시 이호2동 1580,1581,1582</td>\n",
       "      <td>903134</td>\n",
       "      <td>1500843</td>\n",
       "      <td>정좌표</td>\n",
       "    </tr>\n",
       "    <tr>\n",
       "      <th>2040</th>\n",
       "      <td>제주 제주시</td>\n",
       "      <td>(주)진성에너지</td>\n",
       "      <td>제주 제주시 조천읍 와흘리 770번지</td>\n",
       "      <td>용기+탱크+13kg용기</td>\n",
       "      <td>제주 제주시 조천읍 와흘리 770번지</td>\n",
       "      <td>920397</td>\n",
       "      <td>1498895</td>\n",
       "      <td>정좌표</td>\n",
       "    </tr>\n",
       "  </tbody>\n",
       "</table>\n",
       "<p>2041 rows × 8 columns</p>\n",
       "</div>"
      ],
      "text/plain": [
       "       행정 구역         업소명                           소재지           관리구분  \\\n",
       "0     서울 강남구     강남복지충전소         서울 강남구 자곡동 373-1 (1층)          자동차충전   \n",
       "1     서울 강남구     (주)진양가스              서울 강남구 도곡동 552-4          자동차충전   \n",
       "2     서울 강남구   대치에너지주식회사              서울 강남구 대치동 27-15          자동차충전   \n",
       "3     서울 강남구    남서울가스(주)               서울 강남구 대치동 21-1  용기+자동차+13kg용기   \n",
       "4     서울 강남구    (주)수서에너지            서울 강남구 자곡동 204-1.3          자동차충전   \n",
       "...      ...         ...                           ...            ...   \n",
       "2036  제주 제주시  (주)천마와산충전소           제주 제주시 조천읍 와산리 1286   용기+탱크+13kg용기   \n",
       "2037  제주 제주시  정우오라엘피지충전소        제주 제주시 오라2동 1552-1외1필지          자동차충전   \n",
       "2038  제주 제주시   굿모닝엘피지충전소              제주 제주시 용담2동 1543          자동차충전   \n",
       "2039  제주 제주시    제주오케이충전소   제주 제주시 이호2동 1580,1581,1582           자동차충전   \n",
       "2040  제주 제주시    (주)진성에너지          제주 제주시 조천읍 와흘리 770번지   용기+탱크+13kg용기   \n",
       "\n",
       "                             입력주소       X        Y  CLSS  \n",
       "0           서울 강남구 자곡동 373-1 (1층)  965118  1941979   정좌표  \n",
       "1                서울 강남구 도곡동 552-4  958954  1943573   정좌표  \n",
       "2                서울 강남구 대치동 27-15  962707  1944536   정좌표  \n",
       "3                 서울 강남구 대치동 21-1  962482  1944366   정좌표  \n",
       "4              서울 강남구 자곡동 204-1.3  965804  1942510  인근좌표  \n",
       "...                           ...     ...      ...   ...  \n",
       "2036          제주 제주시 조천읍 와산리 1286  923644  1498053   정좌표  \n",
       "2037       제주 제주시 오라2동 1552-1외1필지  908530  1499406   정좌표  \n",
       "2038             제주 제주시 용담2동 1543  907043  1501864   정좌표  \n",
       "2039  제주 제주시 이호2동 1580,1581,1582   903134  1500843   정좌표  \n",
       "2040         제주 제주시 조천읍 와흘리 770번지  920397  1498895   정좌표  \n",
       "\n",
       "[2041 rows x 8 columns]"
      ]
     },
     "execution_count": 5,
     "metadata": {},
     "output_type": "execute_result"
    }
   ],
   "source": [
    "df"
   ]
  },
  {
   "cell_type": "code",
   "execution_count": 6,
   "metadata": {
    "colab": {
     "base_uri": "https://localhost:8080/",
     "height": 416
    },
    "id": "QLSGQDXkRb-P",
    "outputId": "bbc149a4-08d1-41a2-f059-1551afaf3406"
   },
   "outputs": [
    {
     "data": {
      "text/html": [
       "<div>\n",
       "<style scoped>\n",
       "    .dataframe tbody tr th:only-of-type {\n",
       "        vertical-align: middle;\n",
       "    }\n",
       "\n",
       "    .dataframe tbody tr th {\n",
       "        vertical-align: top;\n",
       "    }\n",
       "\n",
       "    .dataframe thead th {\n",
       "        text-align: right;\n",
       "    }\n",
       "</style>\n",
       "<table border=\"1\" class=\"dataframe\">\n",
       "  <thead>\n",
       "    <tr style=\"text-align: right;\">\n",
       "      <th></th>\n",
       "      <th>행정 구역</th>\n",
       "      <th>업소명</th>\n",
       "      <th>소재지</th>\n",
       "      <th>관리구분</th>\n",
       "      <th>입력주소</th>\n",
       "      <th>X</th>\n",
       "      <th>Y</th>\n",
       "      <th>CLSS</th>\n",
       "    </tr>\n",
       "  </thead>\n",
       "  <tbody>\n",
       "    <tr>\n",
       "      <th>0</th>\n",
       "      <td>서울 강남구</td>\n",
       "      <td>강남복지충전소</td>\n",
       "      <td>서울 강남구 자곡동 373-1 (1층)</td>\n",
       "      <td>자동차충전</td>\n",
       "      <td>서울 강남구 자곡동 373-1 (1층)</td>\n",
       "      <td>965118</td>\n",
       "      <td>1941979</td>\n",
       "      <td>정좌표</td>\n",
       "    </tr>\n",
       "    <tr>\n",
       "      <th>1</th>\n",
       "      <td>서울 강남구</td>\n",
       "      <td>(주)진양가스</td>\n",
       "      <td>서울 강남구 도곡동 552-4</td>\n",
       "      <td>자동차충전</td>\n",
       "      <td>서울 강남구 도곡동 552-4</td>\n",
       "      <td>958954</td>\n",
       "      <td>1943573</td>\n",
       "      <td>정좌표</td>\n",
       "    </tr>\n",
       "    <tr>\n",
       "      <th>2</th>\n",
       "      <td>서울 강남구</td>\n",
       "      <td>대치에너지주식회사</td>\n",
       "      <td>서울 강남구 대치동 27-15</td>\n",
       "      <td>자동차충전</td>\n",
       "      <td>서울 강남구 대치동 27-15</td>\n",
       "      <td>962707</td>\n",
       "      <td>1944536</td>\n",
       "      <td>정좌표</td>\n",
       "    </tr>\n",
       "    <tr>\n",
       "      <th>3</th>\n",
       "      <td>서울 강남구</td>\n",
       "      <td>남서울가스(주)</td>\n",
       "      <td>서울 강남구 대치동 21-1</td>\n",
       "      <td>용기+자동차+13kg용기</td>\n",
       "      <td>서울 강남구 대치동 21-1</td>\n",
       "      <td>962482</td>\n",
       "      <td>1944366</td>\n",
       "      <td>정좌표</td>\n",
       "    </tr>\n",
       "    <tr>\n",
       "      <th>4</th>\n",
       "      <td>서울 강남구</td>\n",
       "      <td>(주)수서에너지</td>\n",
       "      <td>서울 강남구 자곡동 204-1.3</td>\n",
       "      <td>자동차충전</td>\n",
       "      <td>서울 강남구 자곡동 204-1.3</td>\n",
       "      <td>965804</td>\n",
       "      <td>1942510</td>\n",
       "      <td>인근좌표</td>\n",
       "    </tr>\n",
       "    <tr>\n",
       "      <th>...</th>\n",
       "      <td>...</td>\n",
       "      <td>...</td>\n",
       "      <td>...</td>\n",
       "      <td>...</td>\n",
       "      <td>...</td>\n",
       "      <td>...</td>\n",
       "      <td>...</td>\n",
       "      <td>...</td>\n",
       "    </tr>\n",
       "    <tr>\n",
       "      <th>74</th>\n",
       "      <td>서울 은평구</td>\n",
       "      <td>은평서부충전소</td>\n",
       "      <td>서울 은평구 진관동 35 (은평서부충전소 제1동)</td>\n",
       "      <td>자동차충전</td>\n",
       "      <td>서울 은평구 진관동 35 (은평서부충전소 제1동)</td>\n",
       "      <td>948940</td>\n",
       "      <td>1960623</td>\n",
       "      <td>정좌표</td>\n",
       "    </tr>\n",
       "    <tr>\n",
       "      <th>75</th>\n",
       "      <td>서울 중랑구</td>\n",
       "      <td>신내LPG충전소</td>\n",
       "      <td>서울 중랑구 신내동 317-7</td>\n",
       "      <td>자동차충전</td>\n",
       "      <td>서울 중랑구 신내동 317-7</td>\n",
       "      <td>964532</td>\n",
       "      <td>1957238</td>\n",
       "      <td>정좌표</td>\n",
       "    </tr>\n",
       "    <tr>\n",
       "      <th>76</th>\n",
       "      <td>서울 중랑구</td>\n",
       "      <td>(주)풍림에너지</td>\n",
       "      <td>서울 중랑구 면목5동 169-6</td>\n",
       "      <td>자동차충전</td>\n",
       "      <td>서울 중랑구 면목5동 169-6</td>\n",
       "      <td>962854</td>\n",
       "      <td>1953441</td>\n",
       "      <td>정좌표</td>\n",
       "    </tr>\n",
       "    <tr>\n",
       "      <th>77</th>\n",
       "      <td>서울 중랑구</td>\n",
       "      <td>동일석유(주)황금충전소</td>\n",
       "      <td>서울 중랑구 중화2동 208-11</td>\n",
       "      <td>자동차충전</td>\n",
       "      <td>서울 중랑구 중화2동 208-11</td>\n",
       "      <td>962560</td>\n",
       "      <td>1955060</td>\n",
       "      <td>정좌표</td>\n",
       "    </tr>\n",
       "    <tr>\n",
       "      <th>78</th>\n",
       "      <td>서울 중랑구</td>\n",
       "      <td>망우충전소</td>\n",
       "      <td>서울 중랑구 망우1동 340-16</td>\n",
       "      <td>자동차충전</td>\n",
       "      <td>서울 중랑구 망우1동 340-16</td>\n",
       "      <td>964860</td>\n",
       "      <td>1955760</td>\n",
       "      <td>정좌표</td>\n",
       "    </tr>\n",
       "  </tbody>\n",
       "</table>\n",
       "<p>79 rows × 8 columns</p>\n",
       "</div>"
      ],
      "text/plain": [
       "     행정 구역           업소명                          소재지           관리구분  \\\n",
       "0   서울 강남구       강남복지충전소        서울 강남구 자곡동 373-1 (1층)          자동차충전   \n",
       "1   서울 강남구       (주)진양가스             서울 강남구 도곡동 552-4          자동차충전   \n",
       "2   서울 강남구     대치에너지주식회사             서울 강남구 대치동 27-15          자동차충전   \n",
       "3   서울 강남구      남서울가스(주)              서울 강남구 대치동 21-1  용기+자동차+13kg용기   \n",
       "4   서울 강남구      (주)수서에너지           서울 강남구 자곡동 204-1.3          자동차충전   \n",
       "..     ...           ...                          ...            ...   \n",
       "74  서울 은평구       은평서부충전소  서울 은평구 진관동 35 (은평서부충전소 제1동)          자동차충전   \n",
       "75  서울 중랑구      신내LPG충전소             서울 중랑구 신내동 317-7          자동차충전   \n",
       "76  서울 중랑구      (주)풍림에너지            서울 중랑구 면목5동 169-6          자동차충전   \n",
       "77  서울 중랑구  동일석유(주)황금충전소           서울 중랑구 중화2동 208-11          자동차충전   \n",
       "78  서울 중랑구         망우충전소           서울 중랑구 망우1동 340-16          자동차충전   \n",
       "\n",
       "                           입력주소       X        Y  CLSS  \n",
       "0         서울 강남구 자곡동 373-1 (1층)  965118  1941979   정좌표  \n",
       "1              서울 강남구 도곡동 552-4  958954  1943573   정좌표  \n",
       "2              서울 강남구 대치동 27-15  962707  1944536   정좌표  \n",
       "3               서울 강남구 대치동 21-1  962482  1944366   정좌표  \n",
       "4            서울 강남구 자곡동 204-1.3  965804  1942510  인근좌표  \n",
       "..                          ...     ...      ...   ...  \n",
       "74  서울 은평구 진관동 35 (은평서부충전소 제1동)  948940  1960623   정좌표  \n",
       "75             서울 중랑구 신내동 317-7  964532  1957238   정좌표  \n",
       "76            서울 중랑구 면목5동 169-6  962854  1953441   정좌표  \n",
       "77           서울 중랑구 중화2동 208-11  962560  1955060   정좌표  \n",
       "78           서울 중랑구 망우1동 340-16  964860  1955760   정좌표  \n",
       "\n",
       "[79 rows x 8 columns]"
      ]
     },
     "execution_count": 6,
     "metadata": {},
     "output_type": "execute_result"
    }
   ],
   "source": [
    "df = df[df['행정 구역'].str.contains('서울')]\n",
    "df"
   ]
  },
  {
   "cell_type": "code",
   "execution_count": 7,
   "metadata": {
    "id": "6LBOf7brKYaG"
   },
   "outputs": [],
   "source": [
    "from sklearn.preprocessing import scale\n",
    "from sklearn.datasets import load_iris\n",
    "from sklearn.cluster import KMeans\n",
    "import matplotlib.pyplot as plt\n",
    "import numpy as np\n",
    "import pandas as pd\n",
    "%matplotlib inline"
   ]
  },
  {
   "cell_type": "code",
   "execution_count": 8,
   "metadata": {
    "colab": {
     "base_uri": "https://localhost:8080/",
     "height": 416
    },
    "id": "HOIITAF5MpPr",
    "outputId": "b5f95c93-3eed-4f41-8b9e-afb99f97e05b"
   },
   "outputs": [
    {
     "data": {
      "text/html": [
       "<div>\n",
       "<style scoped>\n",
       "    .dataframe tbody tr th:only-of-type {\n",
       "        vertical-align: middle;\n",
       "    }\n",
       "\n",
       "    .dataframe tbody tr th {\n",
       "        vertical-align: top;\n",
       "    }\n",
       "\n",
       "    .dataframe thead th {\n",
       "        text-align: right;\n",
       "    }\n",
       "</style>\n",
       "<table border=\"1\" class=\"dataframe\">\n",
       "  <thead>\n",
       "    <tr style=\"text-align: right;\">\n",
       "      <th></th>\n",
       "      <th>X</th>\n",
       "      <th>Y</th>\n",
       "    </tr>\n",
       "  </thead>\n",
       "  <tbody>\n",
       "    <tr>\n",
       "      <th>0</th>\n",
       "      <td>965118</td>\n",
       "      <td>1941979</td>\n",
       "    </tr>\n",
       "    <tr>\n",
       "      <th>1</th>\n",
       "      <td>958954</td>\n",
       "      <td>1943573</td>\n",
       "    </tr>\n",
       "    <tr>\n",
       "      <th>2</th>\n",
       "      <td>962707</td>\n",
       "      <td>1944536</td>\n",
       "    </tr>\n",
       "    <tr>\n",
       "      <th>3</th>\n",
       "      <td>962482</td>\n",
       "      <td>1944366</td>\n",
       "    </tr>\n",
       "    <tr>\n",
       "      <th>4</th>\n",
       "      <td>965804</td>\n",
       "      <td>1942510</td>\n",
       "    </tr>\n",
       "    <tr>\n",
       "      <th>...</th>\n",
       "      <td>...</td>\n",
       "      <td>...</td>\n",
       "    </tr>\n",
       "    <tr>\n",
       "      <th>74</th>\n",
       "      <td>948940</td>\n",
       "      <td>1960623</td>\n",
       "    </tr>\n",
       "    <tr>\n",
       "      <th>75</th>\n",
       "      <td>964532</td>\n",
       "      <td>1957238</td>\n",
       "    </tr>\n",
       "    <tr>\n",
       "      <th>76</th>\n",
       "      <td>962854</td>\n",
       "      <td>1953441</td>\n",
       "    </tr>\n",
       "    <tr>\n",
       "      <th>77</th>\n",
       "      <td>962560</td>\n",
       "      <td>1955060</td>\n",
       "    </tr>\n",
       "    <tr>\n",
       "      <th>78</th>\n",
       "      <td>964860</td>\n",
       "      <td>1955760</td>\n",
       "    </tr>\n",
       "  </tbody>\n",
       "</table>\n",
       "<p>79 rows × 2 columns</p>\n",
       "</div>"
      ],
      "text/plain": [
       "         X        Y\n",
       "0   965118  1941979\n",
       "1   958954  1943573\n",
       "2   962707  1944536\n",
       "3   962482  1944366\n",
       "4   965804  1942510\n",
       "..     ...      ...\n",
       "74  948940  1960623\n",
       "75  964532  1957238\n",
       "76  962854  1953441\n",
       "77  962560  1955060\n",
       "78  964860  1955760\n",
       "\n",
       "[79 rows x 2 columns]"
      ]
     },
     "execution_count": 8,
     "metadata": {},
     "output_type": "execute_result"
    }
   ],
   "source": [
    "df_lpg = df[['X','Y']]\n",
    "df_lpg"
   ]
  },
  {
   "cell_type": "code",
   "execution_count": null,
   "metadata": {
    "id": "MX3yr7WyTUd7"
   },
   "outputs": [],
   "source": []
  },
  {
   "cell_type": "code",
   "execution_count": 9,
   "metadata": {
    "colab": {
     "base_uri": "https://localhost:8080/"
    },
    "id": "h4HOIoLPMdGX",
    "outputId": "f4661c2a-4794-4422-bda2-4fa7af7bd50c"
   },
   "outputs": [
    {
     "data": {
      "text/plain": [
       "KMeans(n_clusters=4, random_state=0)"
      ]
     },
     "execution_count": 9,
     "metadata": {},
     "output_type": "execute_result"
    }
   ],
   "source": [
    "# 개정판 소스 코드 수정(2019.12.24)\n",
    "kmeans = KMeans(n_clusters=4, init='k-means++', max_iter=300,random_state=0)\n",
    "kmeans.fit(df_lpg)"
   ]
  },
  {
   "cell_type": "code",
   "execution_count": 10,
   "metadata": {
    "colab": {
     "base_uri": "https://localhost:8080/"
    },
    "id": "44eRdw8WMnVY",
    "outputId": "6e1f4769-6b7e-4044-e1bc-88e3a037a457"
   },
   "outputs": [
    {
     "name": "stdout",
     "output_type": "stream",
     "text": [
      "[2 2 2 2 2 2 2 2 2 0 0 0 1 1 1 1 1 1 1 1 1 1 1 1 3 3 2 2 2 1 1 3 3 3 3 0 0\n",
      " 0 0 0 0 0 0 0 0 0 0 2 3 1 3 2 3 3 2 2 2 0 0 2 2 2 2 3 1 1 1 1 1 3 3 3 1 1\n",
      " 0 0 0 0 0]\n"
     ]
    }
   ],
   "source": [
    "print(kmeans.labels_)"
   ]
  },
  {
   "cell_type": "code",
   "execution_count": 11,
   "metadata": {
    "colab": {
     "base_uri": "https://localhost:8080/",
     "height": 524
    },
    "id": "oX31Jw4BOnyJ",
    "outputId": "2cbbf4e3-4538-4736-9f08-65725cd89839"
   },
   "outputs": [
    {
     "name": "stderr",
     "output_type": "stream",
     "text": [
      "<ipython-input-11-f54b88406bfe>:1: SettingWithCopyWarning: \n",
      "A value is trying to be set on a copy of a slice from a DataFrame.\n",
      "Try using .loc[row_indexer,col_indexer] = value instead\n",
      "\n",
      "See the caveats in the documentation: https://pandas.pydata.org/pandas-docs/stable/user_guide/indexing.html#returning-a-view-versus-a-copy\n",
      "  df_lpg['cluster'] = kmeans.labels_\n"
     ]
    },
    {
     "data": {
      "text/html": [
       "<div>\n",
       "<style scoped>\n",
       "    .dataframe tbody tr th:only-of-type {\n",
       "        vertical-align: middle;\n",
       "    }\n",
       "\n",
       "    .dataframe tbody tr th {\n",
       "        vertical-align: top;\n",
       "    }\n",
       "\n",
       "    .dataframe thead th {\n",
       "        text-align: right;\n",
       "    }\n",
       "</style>\n",
       "<table border=\"1\" class=\"dataframe\">\n",
       "  <thead>\n",
       "    <tr style=\"text-align: right;\">\n",
       "      <th></th>\n",
       "      <th>X</th>\n",
       "      <th>Y</th>\n",
       "      <th>cluster</th>\n",
       "    </tr>\n",
       "  </thead>\n",
       "  <tbody>\n",
       "    <tr>\n",
       "      <th>0</th>\n",
       "      <td>965118</td>\n",
       "      <td>1941979</td>\n",
       "      <td>2</td>\n",
       "    </tr>\n",
       "    <tr>\n",
       "      <th>1</th>\n",
       "      <td>958954</td>\n",
       "      <td>1943573</td>\n",
       "      <td>2</td>\n",
       "    </tr>\n",
       "    <tr>\n",
       "      <th>2</th>\n",
       "      <td>962707</td>\n",
       "      <td>1944536</td>\n",
       "      <td>2</td>\n",
       "    </tr>\n",
       "    <tr>\n",
       "      <th>3</th>\n",
       "      <td>962482</td>\n",
       "      <td>1944366</td>\n",
       "      <td>2</td>\n",
       "    </tr>\n",
       "    <tr>\n",
       "      <th>4</th>\n",
       "      <td>965804</td>\n",
       "      <td>1942510</td>\n",
       "      <td>2</td>\n",
       "    </tr>\n",
       "    <tr>\n",
       "      <th>...</th>\n",
       "      <td>...</td>\n",
       "      <td>...</td>\n",
       "      <td>...</td>\n",
       "    </tr>\n",
       "    <tr>\n",
       "      <th>74</th>\n",
       "      <td>948940</td>\n",
       "      <td>1960623</td>\n",
       "      <td>0</td>\n",
       "    </tr>\n",
       "    <tr>\n",
       "      <th>75</th>\n",
       "      <td>964532</td>\n",
       "      <td>1957238</td>\n",
       "      <td>0</td>\n",
       "    </tr>\n",
       "    <tr>\n",
       "      <th>76</th>\n",
       "      <td>962854</td>\n",
       "      <td>1953441</td>\n",
       "      <td>0</td>\n",
       "    </tr>\n",
       "    <tr>\n",
       "      <th>77</th>\n",
       "      <td>962560</td>\n",
       "      <td>1955060</td>\n",
       "      <td>0</td>\n",
       "    </tr>\n",
       "    <tr>\n",
       "      <th>78</th>\n",
       "      <td>964860</td>\n",
       "      <td>1955760</td>\n",
       "      <td>0</td>\n",
       "    </tr>\n",
       "  </tbody>\n",
       "</table>\n",
       "<p>79 rows × 3 columns</p>\n",
       "</div>"
      ],
      "text/plain": [
       "         X        Y  cluster\n",
       "0   965118  1941979        2\n",
       "1   958954  1943573        2\n",
       "2   962707  1944536        2\n",
       "3   962482  1944366        2\n",
       "4   965804  1942510        2\n",
       "..     ...      ...      ...\n",
       "74  948940  1960623        0\n",
       "75  964532  1957238        0\n",
       "76  962854  1953441        0\n",
       "77  962560  1955060        0\n",
       "78  964860  1955760        0\n",
       "\n",
       "[79 rows x 3 columns]"
      ]
     },
     "execution_count": 11,
     "metadata": {},
     "output_type": "execute_result"
    }
   ],
   "source": [
    "df_lpg['cluster'] = kmeans.labels_\n",
    "df_lpg"
   ]
  },
  {
   "cell_type": "code",
   "execution_count": 12,
   "metadata": {
    "colab": {
     "base_uri": "https://localhost:8080/"
    },
    "id": "TvCuAm6VXYb9",
    "outputId": "3c330487-f6b5-4b06-e42a-d72e4279b848"
   },
   "outputs": [
    {
     "data": {
      "text/plain": [
       "array([[ 960554.86363636, 1958640.18181818],\n",
       "       [ 941206.68181818, 1950185.72727273],\n",
       "       [ 963722.19047619, 1946709.80952381],\n",
       "       [ 948526.        , 1944654.        ]])"
      ]
     },
     "execution_count": 12,
     "metadata": {},
     "output_type": "execute_result"
    }
   ],
   "source": [
    "centers = kmeans.cluster_centers_\n",
    "centers"
   ]
  },
  {
   "cell_type": "code",
   "execution_count": 13,
   "metadata": {
    "colab": {
     "base_uri": "https://localhost:8080/",
     "height": 295
    },
    "id": "hzuQQS7sOxZ9",
    "outputId": "244f0365-0cd1-4ced-fd06-07fec607d96f"
   },
   "outputs": [
    {
     "data": {
      "image/png": "[encoded data removed]",
      "text/plain": [
       "<Figure size 432x288 with 1 Axes>"
      ]
     },
     "metadata": {
      "needs_background": "light"
     },
     "output_type": "display_data"
    }
   ],
   "source": [
    "# cluster 값이 0, 1, 2 인 경우마다 별도의 Index로 추출\n",
    "marker0_ind = df_lpg[df_lpg['cluster']==0].index\n",
    "marker1_ind = df_lpg[df_lpg['cluster']==1].index\n",
    "marker2_ind = df_lpg[df_lpg['cluster']==2].index\n",
    "marker3_ind = df_lpg[df_lpg['cluster']==3].index\n",
    "\n",
    "\n",
    "# cluster값 0, 1, 2에 해당하는 Index로 각 cluster 레벨의 X, Y 값 추출. o, s, ^ 로 marker 표시\n",
    "plt.scatter(x=df_lpg.loc[marker0_ind,'X'], y=df_lpg.loc[marker0_ind,'Y'], marker='o') \n",
    "plt.scatter(x=df_lpg.loc[marker1_ind,'X'], y=df_lpg.loc[marker1_ind,'Y'], marker='s')\n",
    "plt.scatter(x=df_lpg.loc[marker2_ind,'X'], y=df_lpg.loc[marker2_ind,'Y'], marker='^')\n",
    "plt.scatter(x=df_lpg.loc[marker3_ind,'X'], y=df_lpg.loc[marker3_ind,'Y'], marker='P')\n",
    "\n",
    "\n",
    "plt.xlabel('X')\n",
    "plt.ylabel('Y')\n",
    "plt.title('4 Clusters Visualization')\n",
    "plt.show()"
   ]
  },
  {
   "cell_type": "code",
   "execution_count": 14,
   "metadata": {
    "colab": {
     "base_uri": "https://localhost:8080/",
     "height": 384
    },
    "id": "YciVIWziXZ20",
    "outputId": "6e9ecd7c-9b11-42bd-dacf-ee14a9200712"
   },
   "outputs": [
    {
     "name": "stderr",
     "output_type": "stream",
     "text": [
      "<ipython-input-14-26b1be7d4044>:4: SettingWithCopyWarning: \n",
      "A value is trying to be set on a copy of a slice from a DataFrame.\n",
      "Try using .loc[row_indexer,col_indexer] = value instead\n",
      "\n",
      "See the caveats in the documentation: https://pandas.pydata.org/pandas-docs/stable/user_guide/indexing.html#returning-a-view-versus-a-copy\n",
      "  df_lpg['kmeans_label']  = cluster_labels\n"
     ]
    },
    {
     "data": {
      "image/png": "[encoded data removed]",
      "text/plain": [
       "<Figure size 432x288 with 1 Axes>"
      ]
     },
     "metadata": {
      "needs_background": "light"
     },
     "output_type": "display_data"
    }
   ],
   "source": [
    "# KMeans 객체를 이용하여 X 데이터를 K-Means 클러스터링 수행 \n",
    "kmeans = KMeans(n_clusters=4, init='k-means++', max_iter=200, random_state=0)\n",
    "cluster_labels = kmeans.fit_predict(df_lpg)\n",
    "df_lpg['kmeans_label']  = cluster_labels\n",
    "\n",
    "#cluster_centers_ 는 개별 클러스터의 중심 위치 좌표 시각화를 위해 추출\n",
    "centers = kmeans.cluster_centers_\n",
    "unique_labels = np.unique(cluster_labels)\n",
    "markers=['o', 's', '^', 'P','D','H','x']\n",
    "\n",
    "# 군집된 label 유형별로 iteration 하면서 marker 별로 scatter plot 수행. \n",
    "for label in unique_labels:\n",
    "    label_cluster = df_lpg[df_lpg['kmeans_label']==label]\n",
    "    center_x_y = centers[label]\n",
    "    plt.scatter(x=label_cluster['X'], y=label_cluster['Y'], edgecolor='k', \n",
    "                marker=markers[label] )\n",
    "    \n",
    "    # 군집별 중심 위치 좌표 시각화 \n",
    "    plt.scatter(x=center_x_y[0], y=center_x_y[1], s=200, color='white',\n",
    "                alpha=0.9, edgecolor='k', marker=markers[label])\n",
    "    plt.scatter(x=center_x_y[0], y=center_x_y[1], s=70, color='k', edgecolor='k', \n",
    "                marker='$%d$' % label)\n",
    "\n",
    "plt.show()"
   ]
  },
  {
   "cell_type": "code",
   "execution_count": 15,
   "metadata": {},
   "outputs": [
    {
     "name": "stdout",
     "output_type": "stream",
     "text": [
      "Requirement already satisfied: missingno in c:\\users\\admin\\anaconda3\\lib\\site-packages (0.5.0)\n",
      "Requirement already satisfied: scipy in c:\\users\\admin\\anaconda3\\lib\\site-packages (from missingno) (1.6.2)\n",
      "Requirement already satisfied: matplotlib in c:\\users\\admin\\anaconda3\\lib\\site-packages (from missingno) (3.3.4)\n",
      "Requirement already satisfied: seaborn in c:\\users\\admin\\anaconda3\\lib\\site-packages (from missingno) (0.11.1)\n",
      "Requirement already satisfied: numpy in c:\\users\\admin\\anaconda3\\lib\\site-packages (from missingno) (1.20.1)\n",
      "Requirement already satisfied: pyparsing!=2.0.4,!=2.1.2,!=2.1.6,>=2.0.3 in c:\\users\\admin\\anaconda3\\lib\\site-packages (from matplotlib->missingno) (2.4.7)\n",
      "Requirement already satisfied: pillow>=6.2.0 in c:\\users\\admin\\anaconda3\\lib\\site-packages (from matplotlib->missingno) (8.2.0)\n",
      "Requirement already satisfied: kiwisolver>=1.0.1 in c:\\users\\admin\\anaconda3\\lib\\site-packages (from matplotlib->missingno) (1.3.1)\n",
      "Requirement already satisfied: python-dateutil>=2.1 in c:\\users\\admin\\anaconda3\\lib\\site-packages (from matplotlib->missingno) (2.8.1)\n",
      "Requirement already satisfied: cycler>=0.10 in c:\\users\\admin\\anaconda3\\lib\\site-packages (from matplotlib->missingno) (0.10.0)\n",
      "Requirement already satisfied: six in c:\\users\\admin\\anaconda3\\lib\\site-packages (from cycler>=0.10->matplotlib->missingno) (1.15.0)\n",
      "Requirement already satisfied: pandas>=0.23 in c:\\users\\admin\\anaconda3\\lib\\site-packages (from seaborn->missingno) (1.2.4)\n",
      "Requirement already satisfied: pytz>=2017.3 in c:\\users\\admin\\anaconda3\\lib\\site-packages (from pandas>=0.23->seaborn->missingno) (2021.1)\n",
      "Note: you may need to restart the kernel to use updated packages.\n"
     ]
    }
   ],
   "source": [
    "pip install missingno"
   ]
  },
  {
   "cell_type": "code",
   "execution_count": 16,
   "metadata": {
    "id": "thtfVWhhcm0h"
   },
   "outputs": [
    {
     "name": "stdout",
     "output_type": "stream",
     "text": [
      "Requirement already satisfied: folium in c:\\users\\admin\\anaconda3\\lib\\site-packages (0.12.1)\n",
      "Requirement already satisfied: jinja2>=2.9 in c:\\users\\admin\\anaconda3\\lib\\site-packages (from folium) (2.11.3)\n",
      "Requirement already satisfied: requests in c:\\users\\admin\\anaconda3\\lib\\site-packages (from folium) (2.25.1)\n",
      "Requirement already satisfied: numpy in c:\\users\\admin\\anaconda3\\lib\\site-packages (from folium) (1.20.1)\n",
      "Requirement already satisfied: branca>=0.3.0 in c:\\users\\admin\\anaconda3\\lib\\site-packages (from folium) (0.4.2)\n",
      "Requirement already satisfied: MarkupSafe>=0.23 in c:\\users\\admin\\anaconda3\\lib\\site-packages (from jinja2>=2.9->folium) (1.1.1)\n",
      "Requirement already satisfied: urllib3<1.27,>=1.21.1 in c:\\users\\admin\\anaconda3\\lib\\site-packages (from requests->folium) (1.26.4)\n",
      "Requirement already satisfied: idna<3,>=2.5 in c:\\users\\admin\\anaconda3\\lib\\site-packages (from requests->folium) (2.10)\n",
      "Requirement already satisfied: chardet<5,>=3.0.2 in c:\\users\\admin\\anaconda3\\lib\\site-packages (from requests->folium) (4.0.0)\n",
      "Requirement already satisfied: certifi>=2017.4.17 in c:\\users\\admin\\anaconda3\\lib\\site-packages (from requests->folium) (2020.12.5)\n",
      "Note: you may need to restart the kernel to use updated packages.\n"
     ]
    }
   ],
   "source": [
    "pip install folium"
   ]
  },
  {
   "cell_type": "code",
   "execution_count": 17,
   "metadata": {
    "id": "0kY0qitsbW1U"
   },
   "outputs": [],
   "source": [
    "import matplotlib as mpl\n",
    "import matplotlib.pyplot as plt\n",
    "import seaborn as sns\n",
    "import missingno as msno\n",
    "import folium"
   ]
  },
  {
   "cell_type": "code",
   "execution_count": 18,
   "metadata": {
    "id": "WHZpYe1FbYs-"
   },
   "outputs": [],
   "source": [
    "map=folium.Map(location=[df_lpg['Y'].mean(),df_lpg['X'].mean()], zoom_start=11.5 )"
   ]
  },
  {
   "cell_type": "code",
   "execution_count": 19,
   "metadata": {
    "colab": {
     "base_uri": "https://localhost:8080/",
     "height": 1000
    },
    "id": "p2f_R7qhb5Pp",
    "outputId": "f59aea1f-e0cb-4a78-ca70-130b07752705"
   },
   "outputs": [
    {
     "data": {
      "text/html": [
       "<div style=\"width:100%;\"><div style=\"position:relative;width:100%;height:0;padding-bottom:60%;\"><span style=\"color:#565656\">Make this Notebook Trusted to load map: File -> Trust Notebook</span><iframe src=\"about:blank\" style=\"position:absolute;width:100%;height:100%;left:0;top:0;border:none !important;\" data-html=%3C%21DOCTYPE%20html%3E%0A%3Chead%3E%20%20%20%20%0A%20%20%20%20%3Cmeta%20http-equiv%3D%22content-type%22%20content%3D%22text/html%3B%20charset%3DUTF-8%22%20/%3E%0A%20%20%20%20%0A%20%20%20%20%20%20%20%20%3Cscript%3E%0A%20%20%20%20%20%20%20%20%20%20%20%20L_NO_TOUCH%20%3D%20false%3B%0A%20%20%20%20%20%20%20%20%20%20%20%20L_DISABLE_3D%20%3D%20false%3B%0A%20%20%20%20%20%20%20%20%3C/script%3E%0A%20%20%20%20%0A%20%20%20%20%3Cstyle%3Ehtml%2C%20body%20%7Bwidth%3A%20100%25%3Bheight%3A%20100%25%3Bmargin%3A%200%3Bpadding%3A%200%3B%7D%3C/style%3E%0A%20%20%20%20%3Cstyle%3E%23map%20%7Bposition%3Aabsolute%3Btop%3A0%3Bbottom%3A0%3Bright%3A0%3Bleft%3A0%3B%7D%3C/style%3E%0A%20%20%20%20%3Cscript%20src%3D%22https%3A//cdn.jsdelivr.net/npm/leaflet%401.6.0/dist/leaflet.js%22%3E%3C/script%3E%0A%20%20%20%20%3Cscript%20src%3D%22https%3A//code.jquery.com/jquery-1.12.4.min.js%22%3E%3C/script%3E%0A%20%20%20%20%3Cscript%20src%3D%22https%3A//maxcdn.bootstrapcdn.com/bootstrap/3.2.0/js/bootstrap.min.js%22%3E%3C/script%3E%0A%20%20%20%20%3Cscript%20src%3D%22https%3A//cdnjs.cloudflare.com/ajax/libs/Leaflet.awesome-markers/2.0.2/leaflet.awesome-markers.js%22%3E%3C/script%3E%0A%20%20%20%20%3Clink%20rel%3D%22stylesheet%22%20href%3D%22https%3A//cdn.jsdelivr.net/npm/leaflet%401.6.0/dist/leaflet.css%22/%3E%0A%20%20%20%20%3Clink%20rel%3D%22stylesheet%22%20href%3D%22https%3A//maxcdn.bootstrapcdn.com/bootstrap/3.2.0/css/bootstrap.min.css%22/%3E%0A%20%20%20%20%3Clink%20rel%3D%22stylesheet%22%20href%3D%22https%3A//maxcdn.bootstrapcdn.com/bootstrap/3.2.0/css/bootstrap-theme.min.css%22/%3E%0A%20%20%20%20%3Clink%20rel%3D%22stylesheet%22%20href%3D%22https%3A//maxcdn.bootstrapcdn.com/font-awesome/4.6.3/css/font-awesome.min.css%22/%3E%0A%20%20%20%20%3Clink%20rel%3D%22stylesheet%22%20href%3D%22https%3A//cdnjs.cloudflare.com/ajax/libs/Leaflet.awesome-markers/2.0.2/leaflet.awesome-markers.css%22/%3E%0A%20%20%20%20%3Clink%20rel%3D%22stylesheet%22%20href%3D%22https%3A//cdn.jsdelivr.net/gh/python-visualization/folium/folium/templates/leaflet.awesome.rotate.min.css%22/%3E%0A%20%20%20%20%0A%20%20%20%20%20%20%20%20%20%20%20%20%3Cmeta%20name%3D%22viewport%22%20content%3D%22width%3Ddevice-width%2C%0A%20%20%20%20%20%20%20%20%20%20%20%20%20%20%20%20initial-scale%3D1.0%2C%20maximum-scale%3D1.0%2C%20user-scalable%3Dno%22%20/%3E%0A%20%20%20%20%20%20%20%20%20%20%20%20%3Cstyle%3E%0A%20%20%20%20%20%20%20%20%20%20%20%20%20%20%20%20%23map_220299846d47421e94c0cbc331f6f055%20%7B%0A%20%20%20%20%20%20%20%20%20%20%20%20%20%20%20%20%20%20%20%20position%3A%20relative%3B%0A%20%20%20%20%20%20%20%20%20%20%20%20%20%20%20%20%20%20%20%20width%3A%20100.0%25%3B%0A%20%20%20%20%20%20%20%20%20%20%20%20%20%20%20%20%20%20%20%20height%3A%20100.0%25%3B%0A%20%20%20%20%20%20%20%20%20%20%20%20%20%20%20%20%20%20%20%20left%3A%200.0%25%3B%0A%20%20%20%20%20%20%20%20%20%20%20%20%20%20%20%20%20%20%20%20top%3A%200.0%25%3B%0A%20%20%20%20%20%20%20%20%20%20%20%20%20%20%20%20%7D%0A%20%20%20%20%20%20%20%20%20%20%20%20%3C/style%3E%0A%20%20%20%20%20%20%20%20%0A%3C/head%3E%0A%3Cbody%3E%20%20%20%20%0A%20%20%20%20%0A%20%20%20%20%20%20%20%20%20%20%20%20%3Cdiv%20class%3D%22folium-map%22%20id%3D%22map_220299846d47421e94c0cbc331f6f055%22%20%3E%3C/div%3E%0A%20%20%20%20%20%20%20%20%0A%3C/body%3E%0A%3Cscript%3E%20%20%20%20%0A%20%20%20%20%0A%20%20%20%20%20%20%20%20%20%20%20%20var%20map_220299846d47421e94c0cbc331f6f055%20%3D%20L.map%28%0A%20%20%20%20%20%20%20%20%20%20%20%20%20%20%20%20%22map_220299846d47421e94c0cbc331f6f055%22%2C%0A%20%20%20%20%20%20%20%20%20%20%20%20%20%20%20%20%7B%0A%20%20%20%20%20%20%20%20%20%20%20%20%20%20%20%20%20%20%20%20center%3A%20%5B1950635.8481012657%2C%20953877.0126582278%5D%2C%0A%20%20%20%20%20%20%20%20%20%20%20%20%20%20%20%20%20%20%20%20crs%3A%20L.CRS.EPSG3857%2C%0A%20%20%20%20%20%20%20%20%20%20%20%20%20%20%20%20%20%20%20%20zoom%3A%2011.5%2C%0A%20%20%20%20%20%20%20%20%20%20%20%20%20%20%20%20%20%20%20%20zoomControl%3A%20true%2C%0A%20%20%20%20%20%20%20%20%20%20%20%20%20%20%20%20%20%20%20%20preferCanvas%3A%20false%2C%0A%20%20%20%20%20%20%20%20%20%20%20%20%20%20%20%20%7D%0A%20%20%20%20%20%20%20%20%20%20%20%20%29%3B%0A%0A%20%20%20%20%20%20%20%20%20%20%20%20%0A%0A%20%20%20%20%20%20%20%20%0A%20%20%20%20%0A%20%20%20%20%20%20%20%20%20%20%20%20var%20tile_layer_817f496e2ff141ef9dddb2e8cd3c5db6%20%3D%20L.tileLayer%28%0A%20%20%20%20%20%20%20%20%20%20%20%20%20%20%20%20%22https%3A//%7Bs%7D.tile.openstreetmap.org/%7Bz%7D/%7Bx%7D/%7By%7D.png%22%2C%0A%20%20%20%20%20%20%20%20%20%20%20%20%20%20%20%20%7B%22attribution%22%3A%20%22Data%20by%20%5Cu0026copy%3B%20%5Cu003ca%20href%3D%5C%22http%3A//openstreetmap.org%5C%22%5Cu003eOpenStreetMap%5Cu003c/a%5Cu003e%2C%20under%20%5Cu003ca%20href%3D%5C%22http%3A//www.openstreetmap.org/copyright%5C%22%5Cu003eODbL%5Cu003c/a%5Cu003e.%22%2C%20%22detectRetina%22%3A%20false%2C%20%22maxNativeZoom%22%3A%2018%2C%20%22maxZoom%22%3A%2018%2C%20%22minZoom%22%3A%200%2C%20%22noWrap%22%3A%20false%2C%20%22opacity%22%3A%201%2C%20%22subdomains%22%3A%20%22abc%22%2C%20%22tms%22%3A%20false%7D%0A%20%20%20%20%20%20%20%20%20%20%20%20%29.addTo%28map_220299846d47421e94c0cbc331f6f055%29%3B%0A%20%20%20%20%20%20%20%20%0A%3C/script%3E onload=\"this.contentDocument.open();this.contentDocument.write(    decodeURIComponent(this.getAttribute('data-html')));this.contentDocument.close();\" allowfullscreen webkitallowfullscreen mozallowfullscreen></iframe></div></div>"
      ],
      "text/plain": [
       "<folium.folium.Map at 0x2b72e017a60>"
      ]
     },
     "execution_count": 19,
     "metadata": {},
     "output_type": "execute_result"
    }
   ],
   "source": [
    "map"
   ]
  },
  {
   "cell_type": "code",
   "execution_count": null,
   "metadata": {
    "id": "mFJm-oVGb7a2"
   },
   "outputs": [],
   "source": []
  }
 ],
 "metadata": {
  "colab": {
   "collapsed_sections": [],
   "name": "H2_station_EPSG_5179.ipynb",
   "provenance": []
  },
  "kernelspec": {
   "display_name": "Python 3",
   "language": "python",
   "name": "python3"
  },
  "language_info": {
   "codemirror_mode": {
    "name": "ipython",
    "version": 3
   },
   "file_extension": ".py",
   "mimetype": "text/x-python",
   "name": "python",
   "nbconvert_exporter": "python",
   "pygments_lexer": "ipython3",
   "version": "3.8.8"
  }
 },
 "nbformat": 4,
 "nbformat_minor": 4
}
