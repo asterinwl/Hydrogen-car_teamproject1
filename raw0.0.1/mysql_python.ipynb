{
 "cells": [
  {
   "cell_type": "code",
   "execution_count": 1,
   "id": "7569df17-3fa1-4044-be8d-f1a034054f4e",
   "metadata": {},
   "outputs": [
    {
     "name": "stdout",
     "output_type": "stream",
     "text": [
      "Requirement already satisfied: PyMySQL in c:\\users\\admin\\anaconda3\\envs\\multi\\lib\\site-packages (1.0.0)\n",
      "Note: you may need to restart the kernel to use updated packages.\n"
     ]
    },
    {
     "name": "stderr",
     "output_type": "stream",
     "text": [
      "WARNING: Error parsing requirements for pyzmq: [Errno 2] No such file or directory: 'c:\\\\users\\\\admin\\\\anaconda3\\\\envs\\\\multi\\\\lib\\\\site-packages\\\\pyzmq-22.1.0.dist-info\\\\METADATA'\n"
     ]
    }
   ],
   "source": [
    "pip install PyMySQL"
   ]
  },
  {
   "cell_type": "code",
   "execution_count": 2,
   "id": "65fcbe34-73f4-40bd-97f8-1bee2530d8c5",
   "metadata": {},
   "outputs": [],
   "source": [
    "import pymysql.cursors"
   ]
  },
  {
   "cell_type": "code",
   "execution_count": 3,
   "id": "b57b63cf-76e1-4b9f-b1ff-9abe1723d3a2",
   "metadata": {},
   "outputs": [],
   "source": [
    "import pandas as pd"
   ]
  },
  {
   "cell_type": "code",
   "execution_count": 4,
   "id": "6e63cc05-8921-480d-84e9-089d825e7676",
   "metadata": {},
   "outputs": [
    {
     "name": "stdout",
     "output_type": "stream",
     "text": [
      "       기간      시   자치구      동  발생_합계  발생_실화  발생_방화  발생_기타  소실_동수  소실_이재가구수  \\\n",
      "0    2018  서울특별시    합계     합계   6368   5662    167    539   1033       177   \n",
      "1    2018  서울특별시   종로구     소계    254    219      7     28     20        43   \n",
      "2    2018  서울특별시   종로구    사직동     21     16      1      4      0         0   \n",
      "3    2018  서울특별시   종로구    삼청동      2      2      0      0      0         0   \n",
      "4    2018  서울특별시   종로구    부암동      6      6      0      0      0         0   \n",
      "..    ...    ...   ...    ...    ...    ...    ...    ...    ...       ...   \n",
      "540  2019  서울특별시  동대문구   전농1동     16     14      0      2      5         1   \n",
      "541  2019  서울특별시  동대문구   전농2동      6      5      0      1      1         0   \n",
      "542  2019  서울특별시  동대문구  답십리1동      6      4      0      2      2         0   \n",
      "543  2019  서울특별시  동대문구  답십리2동     10      8      0      2      5         0   \n",
      "544  2019  서울특별시  동대문구   장안1동     25     19      0      6      4         0   \n",
      "\n",
      "     ...    피해액_동산    재산피해경감액  인명피해_합계  인명피해_사망  인명피해_부상  이재민수  구조인원  입력주소_동  \\\n",
      "0    ...  15761107  606988371      360       53      307   360   911      합계   \n",
      "1    ...    294345   12190920       36       14       22    44    60      소계   \n",
      "2    ...     16055    3987678        0        0        0     0     0     사직동   \n",
      "3    ...      1834     119088        1        0        1     0     0     삼청동   \n",
      "4    ...      4309     302738        0        0        0     0     0     부암동   \n",
      "..   ...       ...        ...      ...      ...      ...   ...   ...     ...   \n",
      "540  ...     14752     167377        2        1        1     3     8    전농1동   \n",
      "541  ...      5274      42831        1        1        0     0     1    전농2동   \n",
      "542  ...      5222     161287        0        0        0     0     0   답십리1동   \n",
      "543  ...     22850     824936        1        0        1     0     3   답십리2동   \n",
      "544  ...    246741    1313345        7        1        6     0    14    장안1동   \n",
      "\n",
      "             경도         위도  \n",
      "0    123.741774  32.522020  \n",
      "1    123.741774  32.522020  \n",
      "2    126.965959  37.575407  \n",
      "3    126.981010  37.590757  \n",
      "4    126.965589  37.594767  \n",
      "..          ...        ...  \n",
      "540  127.047788  37.577952  \n",
      "541  127.060036  37.578023  \n",
      "542  127.056718  37.570968  \n",
      "543  127.056718  37.570968  \n",
      "544  127.066664  37.567704  \n",
      "\n",
      "[545 rows x 23 columns]\n"
     ]
    }
   ],
   "source": [
    "conn = pymysql.connect(host='15.164.148.106', user='pj', \n",
    "                       password='1234', db='testbook', charset='utf8',\n",
    "                       autocommit=True, cursorclass=pymysql.cursors.DictCursor)\n",
    "try:\n",
    "\n",
    "   with conn.cursor() as curs:\n",
    "      sql = \"select * from 화재;\"\n",
    "      curs.execute(sql)\n",
    "      rs = curs.fetchall()\n",
    "\n",
    "      # DB에서 받아온 값을 DataFrame에 넣음\n",
    "\n",
    "      df = pd.DataFrame(rs)\n",
    "      print(df)\n",
    "    \n",
    "    #df.to_csv('query.csv')\n",
    "\n",
    "finally:\n",
    "\n",
    "   conn.close()               #day20,6.15 자료"
   ]
  },
  {
   "cell_type": "code",
   "execution_count": null,
   "id": "0dd20567-68ff-4eaf-abe6-ea1d49d72370",
   "metadata": {},
   "outputs": [],
   "source": []
  }
 ],
 "metadata": {
  "kernelspec": {
   "display_name": "Python Multi",
   "language": "python",
   "name": "multi"
  },
  "language_info": {
   "codemirror_mode": {
    "name": "ipython",
    "version": 3
   },
   "file_extension": ".py",
   "mimetype": "text/x-python",
   "name": "python",
   "nbconvert_exporter": "python",
   "pygments_lexer": "ipython3",
   "version": "3.7.10"
  }
 },
 "nbformat": 4,
 "nbformat_minor": 5
}
